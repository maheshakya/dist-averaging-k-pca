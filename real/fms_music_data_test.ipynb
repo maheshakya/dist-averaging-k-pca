{
 "cells": [
  {
   "cell_type": "code",
   "execution_count": 1,
   "metadata": {
    "collapsed": true
   },
   "outputs": [],
   "source": [
    "#Load dependencies\n",
    "import pandas as pd\n",
    "import numpy as np\n",
    "from sklearn.preprocessing import StandardScaler\n",
    "import matplotlib.pyplot as plt\n",
    "\n",
    "rng = np.random.RandomState(8)"
   ]
  },
  {
   "cell_type": "code",
   "execution_count": 2,
   "metadata": {
    "collapsed": true
   },
   "outputs": [],
   "source": [
    "#Load data\n",
    "music_file_path = 'features.csv'\n",
    "original = np.array(pd.read_csv(music_file_path, index_col=0, header=[0, 1, 2]))\n",
    "n_samples = int(original.shape[0]/5)\n",
    "n_indices = rng.choice(np.arange(original.shape[0]), n_samples, replace=False)\n",
    "original = original[n_indices, :]\n",
    "original = StandardScaler().fit_transform(original).T\n",
    "N = original.shape[1]\n",
    "d = original.shape[0]"
   ]
  },
  {
   "cell_type": "code",
   "execution_count": 3,
   "metadata": {},
   "outputs": [
    {
     "name": "stdout",
     "output_type": "stream",
     "text": [
      "N =  21314\n",
      "d =  518\n"
     ]
    },
    {
     "data": {
      "image/png": "[encoded data removed]",
      "text/plain": [
       "<matplotlib.figure.Figure at 0x7f7f5488f490>"
      ]
     },
     "metadata": {},
     "output_type": "display_data"
    }
   ],
   "source": [
    "print 'N = ', N\n",
    "print 'd = ', d\n",
    "\n",
    "E_XX_T = np.dot(original, original.T)/N\n",
    "U_star, Sig_star, VT_star = np.linalg.svd(E_XX_T)\n",
    "\n",
    "x = np.arange(1, len(Sig_star)+1)\n",
    "plt.plot(x, Sig_star)\n",
    "plt.grid(which='both')\n",
    "plt.ylim(-1, np.max(Sig_star)+1)\n",
    "plt.show()"
   ]
  },
  {
   "cell_type": "code",
   "execution_count": 4,
   "metadata": {},
   "outputs": [
    {
     "data": {
      "image/png": "[encoded data removed]",
      "text/plain": [
       "<matplotlib.figure.Figure at 0x7f7f5488f250>"
      ]
     },
     "metadata": {},
     "output_type": "display_data"
    }
   ],
   "source": [
    "want = 50\n",
    "x = np.arange(1, want+1)\n",
    "plt.plot(x, Sig_star[1:want+1])\n",
    "plt.grid(which='both')\n",
    "plt.show()"
   ]
  },
  {
   "cell_type": "code",
   "execution_count": 5,
   "metadata": {
    "collapsed": true
   },
   "outputs": [],
   "source": [
    "def weighted_cov_sum(original, n, m, N, d, rng, k, n_vects):\n",
    "    UU_T = np.zeros((d,d))\n",
    "    UU_T_weighted = np.zeros((d, d))\n",
    "    UU_T_weighted_ = np.zeros((d, d))\n",
    "    for i in range(m):\n",
    "        inds = rng.choice(np.arange(N), n, replace=True)\n",
    "        A_i = original[:, inds]\n",
    "        X_i = np.dot(A_i, A_i.T)/n\n",
    "        U_i, Sig_i, VT_i = np.linalg.svd(X_i)\n",
    "        UU_T += np.dot(U_i[:, :k], U_i[:, :k].T)\n",
    "        UU_T_weighted += np.dot(U_i[:, :k], np.dot(np.diag(Sig_i[:k]), U_i[:, :k].T))        \n",
    "        UU_T_weighted_ += np.dot(U_i[:, :n_vects], np.dot(np.diag(Sig_i[:n_vects]), U_i[:, :n_vects].T))\n",
    "    return UU_T/float(m),UU_T_weighted/float(m), UU_T_weighted_/float(m)"
   ]
  },
  {
   "cell_type": "code",
   "execution_count": 6,
   "metadata": {},
   "outputs": [
    {
     "name": "stdout",
     "output_type": "stream",
     "text": [
      "# of vectors:  70\n",
      "n_list:  [  317   440   611   849  1179  1638  2276  3163  4394  6106  8484 11788\n",
      " 16379 22759 31623]\n",
      "\n",
      "n =  317  done.\n",
      "err =  1.7658670709824416  std =  0.04631973833455031\n",
      "err_weighted =  1.3927759458973017  std_weighted =  0.3133966504768673\n",
      "err_weighted_ =  1.2587177384110853  std_weighted_ =  0.3689804878932565\n",
      "\n",
      "n =  440  done.\n",
      "err =  1.7108115161299755  std =  0.05239011025853927\n",
      "err_weighted =  1.2699347129736758  std_weighted =  0.31771376868923773\n",
      "err_weighted_ =  1.1492144833215592  std_weighted_ =  0.3660246001373758\n",
      "\n",
      "n =  611  done.\n",
      "err =  1.5866923383924303  std =  0.15975983463545626\n",
      "err_weighted =  1.1018752994729588  std_weighted =  0.291203517075617\n",
      "err_weighted_ =  0.9750728526546658  std_weighted_ =  0.34146912427643134\n",
      "\n",
      "n =  849  done.\n",
      "err =  1.358025500434578  std =  0.2004497032097147\n",
      "err_weighted =  0.9602870469921417  std_weighted =  0.2604646668790692\n",
      "err_weighted_ =  0.8191206171190671  std_weighted_ =  0.3134470249030132\n",
      "\n",
      "n =  1179  done.\n",
      "err =  1.1704072243690975  std =  0.1908476824355187\n",
      "err_weighted =  0.887436041556173  std_weighted =  0.2407802683231151\n",
      "err_weighted_ =  0.6877315473431804  std_weighted_ =  0.2668751138296561\n",
      "\n",
      "n =  1638  done.\n",
      "err =  1.085095941316387  std =  0.1896070679834691\n",
      "err_weighted =  0.8225283414076611  std_weighted =  0.17338912224810796\n",
      "err_weighted_ =  0.6135483739855873  std_weighted_ =  0.24456330428547615\n",
      "\n",
      "n =  2276  done.\n",
      "err =  1.063432508304532  std =  0.2020656862072004\n",
      "err_weighted =  0.7583120973750348  std_weighted =  0.17006032493317141\n",
      "err_weighted_ =  0.5467658487218062  std_weighted_ =  0.22616167815107277\n",
      "\n"
     ]
    },
    {
     "ename": "LinAlgError",
     "evalue": "SVD did not converge",
     "output_type": "error",
     "traceback": [
      "\u001b[0;31m---------------------------------------------------------------------------\u001b[0m",
      "\u001b[0;31mLinAlgError\u001b[0m                               Traceback (most recent call last)",
      "\u001b[0;32m<ipython-input-6-6125317b1072>\u001b[0m in \u001b[0;36m<module>\u001b[0;34m()\u001b[0m\n\u001b[1;32m     29\u001b[0m         \u001b[0mU\u001b[0m\u001b[0;34m,\u001b[0m \u001b[0m_\u001b[0m\u001b[0;34m,\u001b[0m \u001b[0m_\u001b[0m \u001b[0;34m=\u001b[0m \u001b[0mnp\u001b[0m\u001b[0;34m.\u001b[0m\u001b[0mlinalg\u001b[0m\u001b[0;34m.\u001b[0m\u001b[0msvd\u001b[0m\u001b[0;34m(\u001b[0m\u001b[0mUU_T\u001b[0m\u001b[0;34m)\u001b[0m\u001b[0;34m\u001b[0m\u001b[0m\n\u001b[1;32m     30\u001b[0m         \u001b[0;31m#print 'past SVD step'\u001b[0m\u001b[0;34m\u001b[0m\u001b[0;34m\u001b[0m\u001b[0m\n\u001b[0;32m---> 31\u001b[0;31m         \u001b[0mU_weighted\u001b[0m\u001b[0;34m,\u001b[0m \u001b[0m_\u001b[0m\u001b[0;34m,\u001b[0m \u001b[0m_\u001b[0m \u001b[0;34m=\u001b[0m \u001b[0mnp\u001b[0m\u001b[0;34m.\u001b[0m\u001b[0mlinalg\u001b[0m\u001b[0;34m.\u001b[0m\u001b[0msvd\u001b[0m\u001b[0;34m(\u001b[0m\u001b[0mUU_T_weigthed\u001b[0m\u001b[0;34m)\u001b[0m\u001b[0;34m\u001b[0m\u001b[0m\n\u001b[0m\u001b[1;32m     32\u001b[0m         \u001b[0mU_weighted_\u001b[0m\u001b[0;34m,\u001b[0m \u001b[0m_\u001b[0m\u001b[0;34m,\u001b[0m \u001b[0m_\u001b[0m \u001b[0;34m=\u001b[0m \u001b[0mnp\u001b[0m\u001b[0;34m.\u001b[0m\u001b[0mlinalg\u001b[0m\u001b[0;34m.\u001b[0m\u001b[0msvd\u001b[0m\u001b[0;34m(\u001b[0m\u001b[0mUU_T_weighted_\u001b[0m\u001b[0;34m)\u001b[0m\u001b[0;34m\u001b[0m\u001b[0m\n\u001b[1;32m     33\u001b[0m         \u001b[0merr\u001b[0m \u001b[0;34m+=\u001b[0m \u001b[0;34m[\u001b[0m\u001b[0mnp\u001b[0m\u001b[0;34m.\u001b[0m\u001b[0mlinalg\u001b[0m\u001b[0;34m.\u001b[0m\u001b[0mnorm\u001b[0m\u001b[0;34m(\u001b[0m\u001b[0mtop_subspace\u001b[0m \u001b[0;34m-\u001b[0m \u001b[0mnp\u001b[0m\u001b[0;34m.\u001b[0m\u001b[0mdot\u001b[0m\u001b[0;34m(\u001b[0m\u001b[0mU\u001b[0m\u001b[0;34m[\u001b[0m\u001b[0;34m:\u001b[0m\u001b[0;34m,\u001b[0m \u001b[0;36m1\u001b[0m\u001b[0;34m:\u001b[0m\u001b[0mk\u001b[0m\u001b[0;34m+\u001b[0m\u001b[0;36m1\u001b[0m\u001b[0;34m]\u001b[0m\u001b[0;34m,\u001b[0m \u001b[0mU\u001b[0m\u001b[0;34m[\u001b[0m\u001b[0;34m:\u001b[0m\u001b[0;34m,\u001b[0m \u001b[0;36m1\u001b[0m\u001b[0;34m:\u001b[0m\u001b[0mk\u001b[0m\u001b[0;34m+\u001b[0m\u001b[0;36m1\u001b[0m\u001b[0;34m]\u001b[0m\u001b[0;34m.\u001b[0m\u001b[0mT\u001b[0m\u001b[0;34m)\u001b[0m\u001b[0;34m,\u001b[0m \u001b[0mord\u001b[0m\u001b[0;34m=\u001b[0m\u001b[0;34m'fro'\u001b[0m\u001b[0;34m)\u001b[0m\u001b[0;34m]\u001b[0m\u001b[0;34m\u001b[0m\u001b[0m\n",
      "\u001b[0;32m/usr/local/lib/python2.7/dist-packages/numpy/linalg/linalg.pyc\u001b[0m in \u001b[0;36msvd\u001b[0;34m(a, full_matrices, compute_uv)\u001b[0m\n\u001b[1;32m   1442\u001b[0m \u001b[0;34m\u001b[0m\u001b[0m\n\u001b[1;32m   1443\u001b[0m         \u001b[0msignature\u001b[0m \u001b[0;34m=\u001b[0m \u001b[0;34m'D->DdD'\u001b[0m \u001b[0;32mif\u001b[0m \u001b[0misComplexType\u001b[0m\u001b[0;34m(\u001b[0m\u001b[0mt\u001b[0m\u001b[0;34m)\u001b[0m \u001b[0;32melse\u001b[0m \u001b[0;34m'd->ddd'\u001b[0m\u001b[0;34m\u001b[0m\u001b[0m\n\u001b[0;32m-> 1444\u001b[0;31m         \u001b[0mu\u001b[0m\u001b[0;34m,\u001b[0m \u001b[0ms\u001b[0m\u001b[0;34m,\u001b[0m \u001b[0mvh\u001b[0m \u001b[0;34m=\u001b[0m \u001b[0mgufunc\u001b[0m\u001b[0;34m(\u001b[0m\u001b[0ma\u001b[0m\u001b[0;34m,\u001b[0m \u001b[0msignature\u001b[0m\u001b[0;34m=\u001b[0m\u001b[0msignature\u001b[0m\u001b[0;34m,\u001b[0m \u001b[0mextobj\u001b[0m\u001b[0;34m=\u001b[0m\u001b[0mextobj\u001b[0m\u001b[0;34m)\u001b[0m\u001b[0;34m\u001b[0m\u001b[0m\n\u001b[0m\u001b[1;32m   1445\u001b[0m         \u001b[0mu\u001b[0m \u001b[0;34m=\u001b[0m \u001b[0mu\u001b[0m\u001b[0;34m.\u001b[0m\u001b[0mastype\u001b[0m\u001b[0;34m(\u001b[0m\u001b[0mresult_t\u001b[0m\u001b[0;34m,\u001b[0m \u001b[0mcopy\u001b[0m\u001b[0;34m=\u001b[0m\u001b[0mFalse\u001b[0m\u001b[0;34m)\u001b[0m\u001b[0;34m\u001b[0m\u001b[0m\n\u001b[1;32m   1446\u001b[0m         \u001b[0ms\u001b[0m \u001b[0;34m=\u001b[0m \u001b[0ms\u001b[0m\u001b[0;34m.\u001b[0m\u001b[0mastype\u001b[0m\u001b[0;34m(\u001b[0m\u001b[0m_realType\u001b[0m\u001b[0;34m(\u001b[0m\u001b[0mresult_t\u001b[0m\u001b[0;34m)\u001b[0m\u001b[0;34m,\u001b[0m \u001b[0mcopy\u001b[0m\u001b[0;34m=\u001b[0m\u001b[0mFalse\u001b[0m\u001b[0;34m)\u001b[0m\u001b[0;34m\u001b[0m\u001b[0m\n",
      "\u001b[0;32m/usr/local/lib/python2.7/dist-packages/numpy/linalg/linalg.pyc\u001b[0m in \u001b[0;36m_raise_linalgerror_svd_nonconvergence\u001b[0;34m(err, flag)\u001b[0m\n\u001b[1;32m     96\u001b[0m \u001b[0;34m\u001b[0m\u001b[0m\n\u001b[1;32m     97\u001b[0m \u001b[0;32mdef\u001b[0m \u001b[0m_raise_linalgerror_svd_nonconvergence\u001b[0m\u001b[0;34m(\u001b[0m\u001b[0merr\u001b[0m\u001b[0;34m,\u001b[0m \u001b[0mflag\u001b[0m\u001b[0;34m)\u001b[0m\u001b[0;34m:\u001b[0m\u001b[0;34m\u001b[0m\u001b[0m\n\u001b[0;32m---> 98\u001b[0;31m     \u001b[0;32mraise\u001b[0m \u001b[0mLinAlgError\u001b[0m\u001b[0;34m(\u001b[0m\u001b[0;34m\"SVD did not converge\"\u001b[0m\u001b[0;34m)\u001b[0m\u001b[0;34m\u001b[0m\u001b[0m\n\u001b[0m\u001b[1;32m     99\u001b[0m \u001b[0;34m\u001b[0m\u001b[0m\n\u001b[1;32m    100\u001b[0m \u001b[0;32mdef\u001b[0m \u001b[0mget_linalg_error_extobj\u001b[0m\u001b[0;34m(\u001b[0m\u001b[0mcallback\u001b[0m\u001b[0;34m)\u001b[0m\u001b[0;34m:\u001b[0m\u001b[0;34m\u001b[0m\u001b[0m\n",
      "\u001b[0;31mLinAlgError\u001b[0m: SVD did not converge"
     ]
    }
   ],
   "source": [
    "n_iter = 200\n",
    "#n_list = np.arange(1, 1000, 50)\n",
    "n_list = np.ceil(np.logspace(2.5, 4.5, 15)).astype(int)\n",
    "# n_list = [50]\n",
    "k = 10\n",
    "c = 7\n",
    "n_vects = int(np.minimum(N, c*k))\n",
    "print '# of vectors: ', n_vects\n",
    "print 'n_list: ', n_list\n",
    "print\n",
    "\n",
    "top_subspace = np.dot(U_star[:, 1:k+1], U_star[:, 1:k+1].T)\n",
    "\n",
    "m = 50\n",
    "errs = []\n",
    "errs_weighted = []\n",
    "errs_weighted_ = []\n",
    "\n",
    "stds = []\n",
    "stds_weighted = []\n",
    "stds_weighted_ = []\n",
    "\n",
    "for n in n_list:\n",
    "    err = []\n",
    "    err_weighted = []\n",
    "    err_weighted_ = []\n",
    "    for i in range(n_iter):\n",
    "        UU_T, UU_T_weigthed, UU_T_weighted_ = weighted_cov_sum(original, n, m, N, d, rng, k, n_vects)\n",
    "        U, _, _ = np.linalg.svd(UU_T)\n",
    "        #print 'past SVD step'\n",
    "        U_weighted, _, _ = np.linalg.svd(UU_T_weigthed)\n",
    "        U_weighted_, _, _ = np.linalg.svd(UU_T_weighted_)\n",
    "        err += [np.linalg.norm(top_subspace - np.dot(U[:, 1:k+1], U[:, 1:k+1].T), ord='fro')]\n",
    "        err_weighted += [np.linalg.norm(top_subspace - np.dot(U_weighted[:, 1:k+1], U_weighted[:, 1:k+1].T), ord='fro')]\n",
    "        err_weighted_ += [np.linalg.norm(top_subspace - np.dot(U_weighted_[:, 1:k+1], U_weighted_[:, 1:k+1].T), ord='fro')]\n",
    "    errs += [np.mean(err)]\n",
    "    errs_weighted += [np.mean(err_weighted)]\n",
    "    errs_weighted_ += [np.mean(err_weighted_)]\n",
    "    stds += [np.std(err)]\n",
    "    stds_weighted += [np.std(err_weighted)]\n",
    "    stds_weighted_ += [np.std(err_weighted_)]\n",
    "    print 'n = ', n, ' done.'\n",
    "    print 'err = ', np.mean(err), ' std = ', np.std(err)\n",
    "    print 'err_weighted = ', np.mean(err_weighted), ' std_weighted = ', np.std(err_weighted)\n",
    "    print 'err_weighted_ = ', np.mean(err_weighted_), ' std_weighted_ = ', np.std(err_weighted_)\n",
    "    print\n",
    "\n",
    "plt.plot(n_list, errs, c='r')\n",
    "plt.plot(n_list, errs_weighted, c='g')\n",
    "plt.plot(n_list, errs_weighted_, c='b')\n",
    "\n",
    "\n",
    "plt.grid(which='both')\n",
    "plt.show()"
   ]
  },
  {
   "cell_type": "code",
   "execution_count": null,
   "metadata": {
    "collapsed": true
   },
   "outputs": [],
   "source": [
    "x = len(errs_weighted_)\n",
    "x_axis = n_list[: x]\n",
    "plt.errorbar(x_axis, errs, stds, c='r', lw=0.5, marker='*', label='unweighted')\n",
    "plt.errorbar(x_axis, errs_weighted, stds_weighted, c='g', lw=0.5, marker='x', label='weighted k')\n",
    "plt.errorbar(x_axis, errs_weighted_, stds_weighted_, c='b', lw=0.5, marker='+', label='weighted ck')\n",
    "plt.legend()\n",
    "\n",
    "plt.xlabel('m')\n",
    "plt.ylabel('frob error of top k vectors')\n",
    "\n",
    "plt.grid(which='both')\n",
    "plt.show()"
   ]
  },
  {
   "cell_type": "code",
   "execution_count": null,
   "metadata": {
    "collapsed": true
   },
   "outputs": [],
   "source": []
  },
  {
   "cell_type": "code",
   "execution_count": null,
   "metadata": {
    "collapsed": true
   },
   "outputs": [],
   "source": [
    "### add more maybe"
   ]
  },
  {
   "cell_type": "code",
   "execution_count": 10,
   "metadata": {},
   "outputs": [
    {
     "name": "stdout",
     "output_type": "stream",
     "text": [
      "n_list:  [  317   409   528   682   880  1137  1468  1896  2449  3163  5012 12590\n",
      " 31623]\n",
      "\n",
      "n =  5012  done.\n",
      "err =  1.0428705174285111  std =  0.2501876538705576\n",
      "err_weighted =  0.705346343961704  std_weighted =  0.09786076917292998\n",
      "err_weighted_ =  0.4123148645922096  std_weighted_ =  0.19571359394026114\n",
      "\n",
      "n =  12590  done.\n",
      "err =  0.48088724800121857  std =  0.04669142831433968\n",
      "err_weighted =  0.4725609100050653  std_weighted =  0.06020613133101937\n",
      "err_weighted_ =  0.25327571192266285  std_weighted_ =  0.11475902402892675\n",
      "\n",
      "n =  31623  done.\n",
      "err =  0.4320983773419623  std =  0.051812529932434376\n",
      "err_weighted =  0.41920964361732743  std_weighted =  0.06169357822077295\n",
      "err_weighted_ =  0.16105626920717345  std_weighted_ =  0.0808217889578667\n",
      "\n"
     ]
    },
    {
     "data": {
      "image/png": "[encoded data removed]",
      "text/plain": [
       "<matplotlib.figure.Figure at 0x7fcb03540ad0>"
      ]
     },
     "metadata": {},
     "output_type": "display_data"
    }
   ],
   "source": [
    "n_list_more = np.ceil(np.logspace(3.7, 4.5, 3)).astype(int)\n",
    "n_list_new = np.concatenate((n_list, n_list_more))\n",
    "print 'n_list: ', n_list_new\n",
    "print\n",
    "\n",
    "for n in n_list_more:\n",
    "    err = []\n",
    "    err_weighted = []\n",
    "    err_weighted_ = []\n",
    "    for i in range(n_iter):\n",
    "        UU_T, UU_T_weigthed, UU_T_weighted_ = weighted_cov_sum(original, n, m, N, d, rng, k, n_vects)\n",
    "        U, _, _ = np.linalg.svd(UU_T)\n",
    "        #print 'past SVD step'\n",
    "        U_weighted, _, _ = np.linalg.svd(UU_T_weigthed)\n",
    "        U_weighted_, _, _ = np.linalg.svd(UU_T_weighted_)\n",
    "        err += [np.linalg.norm(top_subspace - np.dot(U[:, 1:k+1], U[:, 1:k+1].T), ord='fro')]\n",
    "        err_weighted += [np.linalg.norm(top_subspace - np.dot(U_weighted[:, 1:k+1], U_weighted[:, 1:k+1].T), ord='fro')]\n",
    "        err_weighted_ += [np.linalg.norm(top_subspace - np.dot(U_weighted_[:, 1:k+1], U_weighted_[:, 1:k+1].T), ord='fro')]\n",
    "    errs += [np.mean(err)]\n",
    "    errs_weighted += [np.mean(err_weighted)]\n",
    "    errs_weighted_ += [np.mean(err_weighted_)]\n",
    "    stds += [np.std(err)]\n",
    "    stds_weighted += [np.std(err_weighted)]\n",
    "    stds_weighted_ += [np.std(err_weighted_)]\n",
    "    print 'n = ', n, ' done.'\n",
    "    print 'err = ', np.mean(err), ' std = ', np.std(err)\n",
    "    print 'err_weighted = ', np.mean(err_weighted), ' std_weighted = ', np.std(err_weighted)\n",
    "    print 'err_weighted_ = ', np.mean(err_weighted_), ' std_weighted_ = ', np.std(err_weighted_)\n",
    "    print\n",
    "\n",
    "plt.plot(n_list_new, errs, c='r')\n",
    "plt.plot(n_list_new, errs_weighted, c='g')\n",
    "plt.plot(n_list_new, errs_weighted_, c='b')\n",
    "\n",
    "\n",
    "plt.grid(which='both')\n",
    "plt.show()"
   ]
  },
  {
   "cell_type": "code",
   "execution_count": 14,
   "metadata": {},
   "outputs": [
    {
     "data": {
      "image/png": "[encoded data removed]",
      "text/plain": [
       "<matplotlib.figure.Figure at 0x7fcb03598890>"
      ]
     },
     "metadata": {},
     "output_type": "display_data"
    }
   ],
   "source": [
    "x = len(errs_weighted_)\n",
    "x_axis = n_list_new[: x]\n",
    "plt.errorbar(x_axis, errs, stds, c='r', lw=0.5, marker='*', label='unweighted')\n",
    "plt.errorbar(x_axis, errs_weighted, stds_weighted, c='g', lw=0.5, marker='x', label='weighted k')\n",
    "plt.errorbar(x_axis, errs_weighted_, stds_weighted_, c='b', lw=0.5, marker='+', label='weighted ck')\n",
    "plt.legend()\n",
    "\n",
    "plt.xlabel('n')\n",
    "plt.ylabel('frob error of top k vectors')\n",
    "\n",
    "plt.grid(which='both')\n",
    "plt.show()"
   ]
  },
  {
   "cell_type": "code",
   "execution_count": null,
   "metadata": {
    "collapsed": true
   },
   "outputs": [],
   "source": []
  },
  {
   "cell_type": "code",
   "execution_count": null,
   "metadata": {
    "collapsed": true
   },
   "outputs": [],
   "source": []
  },
  {
   "cell_type": "code",
   "execution_count": 15,
   "metadata": {
    "collapsed": true
   },
   "outputs": [],
   "source": [
    "# CHANGE FILE NAME if saving!!!!\n",
    "x = len(errs_weighted_)\n",
    "x_axis = n_list_new[: x]\n",
    "plt.errorbar(x_axis, errs, stds, c='r', lw=0.5, marker='*', label='unweighted')\n",
    "plt.errorbar(x_axis, errs_weighted, stds_weighted, c='g', lw=0.5, marker='x', label='weighted k')\n",
    "plt.errorbar(x_axis, errs_weighted_, stds_weighted_, c='b', lw=0.5, marker='+', label='weighted ck')\n",
    "plt.legend()\n",
    "\n",
    "plt.xlabel('n')\n",
    "plt.ylabel('frob error of top k vectors')\n",
    "\n",
    "plt.grid(which='both')\n",
    "plt.savefig('music_data_N_reduced_k_10_c_3_niter_200_m_50_n_vary_2.pdf')"
   ]
  },
  {
   "cell_type": "code",
   "execution_count": null,
   "metadata": {
    "collapsed": true
   },
   "outputs": [],
   "source": []
  },
  {
   "cell_type": "code",
   "execution_count": null,
   "metadata": {
    "collapsed": true
   },
   "outputs": [],
   "source": []
  },
  {
   "cell_type": "code",
   "execution_count": null,
   "metadata": {
    "collapsed": true
   },
   "outputs": [],
   "source": []
  },
  {
   "cell_type": "code",
   "execution_count": null,
   "metadata": {
    "collapsed": true
   },
   "outputs": [],
   "source": []
  }
 ],
 "metadata": {
  "kernelspec": {
   "display_name": "Python 2",
   "language": "python",
   "name": "python2"
  },
  "language_info": {
   "codemirror_mode": {
    "name": "ipython",
    "version": 2
   },
   "file_extension": ".py",
   "mimetype": "text/x-python",
   "name": "python",
   "nbconvert_exporter": "python",
   "pygments_lexer": "ipython2",
   "version": "2.7.15rc1"
  }
 },
 "nbformat": 4,
 "nbformat_minor": 2
}
